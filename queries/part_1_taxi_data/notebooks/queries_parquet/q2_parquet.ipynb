{
 "cells": [
  {
   "cell_type": "code",
   "execution_count": 27,
   "metadata": {},
   "outputs": [
    {
     "name": "stdout",
     "output_type": "stream",
     "text": [
      "+---------+------------------+------------------+\n",
      "|vendor_id|          Distance|          Duration|\n",
      "+---------+------------------+------------------+\n",
      "|        1|18739.202499298084| 5.233333333333333|\n",
      "|        2|18445.843523416574|14.233333333333333|\n",
      "+---------+------------------+------------------+\n",
      "\n",
      "total time to run:  261.3669967651367\n"
     ]
    }
   ],
   "source": [
    "from pyspark.sql import SparkSession\n",
    "from pyspark.sql.functions import col, hour, asc, udf, dayofmonth, desc,avg\n",
    "from pyspark.sql.types import StructType, StructField, DoubleType, IntegerType, StringType, TimestampType, FloatType, LongType\n",
    "import math\n",
    "import time\n",
    "from datetime import datetime\n",
    "import pyspark.sql.functions as F\n",
    "from pyspark.sql import Window\n",
    "\n",
    "spark = SparkSession.builder.appName(\"q2_parquet\").getOrCreate()\n",
    "sc = spark.sparkContext\n",
    "sqlContext = SQLContext(sc)\n",
    "\n",
    "path_trip=\"hdfs://master:9000/yellow_tripdata_1m.parquet\"\n",
    "path_ven=\"hdfs://master:9000/yellow_tripvendors_1m.parquet\"\n",
    "\n",
    "trip_data = sqlContext.read.parquet(path_trip)\n",
    "trip_vendors = sqlContext.read.parquet(path_ven)\n",
    "\n",
    "t1 = time.time()\n",
    "\n",
    "trip_data = trip_data.filter((col(\"trip_start_lat\") >= 40) & (col(\"trip_start_lat\") <= 45) &\\\n",
    "                             (col(\"trip_end_lat\") >= 40) & (col(\"trip_end_lat\") <= 45) &\\\n",
    "                             (col(\"trip_start_long\") >= -80) & (col(\"trip_start_long\") <= -71) &\\\n",
    "                             (col(\"trip_end_long\") >= -80) & (col(\"trip_end_long\") <= -71))\n",
    "\n",
    "\n",
    "def haversine(long1, lat1, long2, lat2):\n",
    "    R = 6371\n",
    "    a = math.sin((lat2-lat1)/2)**2 + math.cos(lat1) * math.cos(lat2) * math.sin((long2-long1)/2)**2\n",
    "    c = 2 * math.atan2(math.sqrt(a), math.sqrt(1-a))\n",
    "    d = R * c\n",
    "    return d\n",
    "\n",
    "haversine = udf(haversine,DoubleType())\n",
    "\n",
    "  \n",
    "def duration(start, end):\n",
    "    start_time = datetime.strptime(start, \"%Y-%m-%d %H:%M:%S\")\n",
    "    end_time = datetime.strptime(end, \"%Y-%m-%d %H:%M:%S\")\n",
    "    duration = (end_time - start_time).total_seconds() / 60.0\n",
    "    return duration\n",
    "    \n",
    "duration = udf(duration, DoubleType())\n",
    "\n",
    "trip_data = trip_data.withColumn(\"Distance\", (haversine(col(\"trip_start_long\"),col(\"trip_start_lat\"),col(\"trip_end_long\"),col(\"trip_end_lat\"))))\n",
    "trip_data = trip_data.withColumn(\"Duration\", (duration(col(\"trip_start_time\"),col(\"trip_end_time\"))))\n",
    "\n",
    "trip_data.createOrReplaceTempView(\"trip_data\")\n",
    "trip_vendors.createOrReplaceTempView(\"trip_vendors\")\n",
    "\n",
    "\n",
    "trip_joined = trip_data.join(trip_vendors, \"trip_id\", \"inner\")\n",
    "trip_joined.createOrReplaceTempView(\"trip_joined\")\n",
    "\n",
    "w = Window.partitionBy('vendor_id')\n",
    "res = trip_joined.withColumn('max_distance', F.max('Distance').over(w))\\\n",
    "    .where(F.col('Distance') == F.col('max_distance'))\\\n",
    "    .drop('max_distance')\n",
    "res.select([\"vendor_id\",\"Duration\",\"Distance\"]).sort('vendor_id').show()\n",
    "\n",
    "\n",
    "\n",
    "t2 = time.time()\n",
    "total_time = t2-t1\n",
    "print('total time to run: ', total_time)\n",
    "\n",
    "sc.stop()\n"
   ]
  },
  {
   "cell_type": "code",
   "execution_count": null,
   "metadata": {},
   "outputs": [],
   "source": []
  }
 ],
 "metadata": {
  "kernelspec": {
   "display_name": "Python 3",
   "language": "python",
   "name": "python3"
  },
  "language_info": {
   "codemirror_mode": {
    "name": "ipython",
    "version": 3
   },
   "file_extension": ".py",
   "mimetype": "text/x-python",
   "name": "python",
   "nbconvert_exporter": "python",
   "pygments_lexer": "ipython3",
   "version": "3.7.3"
  }
 },
 "nbformat": 4,
 "nbformat_minor": 4
}
