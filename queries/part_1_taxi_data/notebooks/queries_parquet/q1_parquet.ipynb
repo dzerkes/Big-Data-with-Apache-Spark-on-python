{
 "cells": [
  {
   "cell_type": "code",
   "execution_count": 29,
   "metadata": {},
   "outputs": [
    {
     "name": "stdout",
     "output_type": "stream",
     "text": [
      "+---------------+-------------------+--------------------+\n",
      "|trip_start_time|avg(trip_start_lat)|avg(trip_start_long)|\n",
      "+---------------+-------------------+--------------------+\n",
      "|              3| 40.627629672779754|  -73.77892133067635|\n",
      "|              4|  40.56316505688749|  -73.65362635437539|\n",
      "|              5|  40.63537364364952|  -73.77073302662073|\n",
      "|              6|  40.61719897588094|  -73.72417994289533|\n",
      "|              7| 40.638547884394185|  -73.76285024337749|\n",
      "|              8|   40.6821769773265|   -73.8392740275867|\n",
      "|              9| 40.684715533967264|  -73.84351477196546|\n",
      "|             10|  40.65887830838559|  -73.79915788923404|\n",
      "|             11|  40.68967540320586|   -73.8586070815505|\n",
      "+---------------+-------------------+--------------------+\n",
      "\n",
      "\n",
      "\n",
      "total time to run:  1.4332575798034668\n"
     ]
    }
   ],
   "source": [
    "  GNU nano 2.5.3                     File: q1_parquet.py                                                \n",
    "\n",
    "from pyspark.sql.types import StructType, StructField, DoubleType, IntegerType, StringType, TimestampTy$\n",
    "from pyspark.sql.functions import col, hour, asc, udf, dayofmonth, desc,avg\n",
    "import time\n",
    "from pyspark.sql import SparkSession\n",
    "from pyspark.sql import SQLContext\n",
    "\n",
    "\n",
    "\n",
    "t1 = time.time()\n",
    "\n",
    "\n",
    "path_trip = \"hdfs://master:9000/yellow_tripdata_1m.parquet\"\n",
    "\n",
    "# define a scructType schema for the dataframe\n",
    "\n",
    "\n",
    "spark = SparkSession.builder.appName(\"q1_parquet\").getOrCreate()\n",
    "sc = spark.sparkContext\n",
    "sqlContext = SQLContext(sc)\n",
    "\n",
    "\n",
    "trip_data = sqlContext.read.parquet(path_trip)\n",
    "\n",
    "\n",
    "# set filters\n",
    "trip_data = trip_data.filter(((col(\"trip_start_long\") != col(\"trip_end_long\")) & \\\n",
    "                             (col(\"trip_start_lat\") != col(\"trip_end_lat\"))) & \\\n",
    "                             (col(\"trip_start_time\") < col(\"trip_end_time\")) &\\\n",
    "                            (col(\"trip_start_lat\") >= 40) & (col(\"trip_start_lat\") <= 45) &\\\n",
    "                             (col(\"trip_end_lat\") >= 40) & (col(\"trip_end_lat\") <= 45) &\\\n",
    "                             (col(\"trip_start_long\") >= -80) & (col(\"trip_start_long\") <= -71) &\\\n",
    "                            (col(\"trip_end_long\") >= -80) & (col(\"trip_end_long\") <= -71))\n",
    "\n",
    "\n",
    "# register table\n",
    "trip_data.registerTempTable(\"trip_data\")\n",
    "\n",
    "\n",
    "trip_data = trip_data.withColumn(\"trip_start_time\", hour(col(\"trip_start_time\")))\n",
    "#trip_data = trip_data.withColumn(\"trip_end_time\", hour(col(\"trip_end_time\")))\n",
    "\n",
    "res = trip_data.groupBy('trip_start_time').agg({'trip_start_long': 'mean', 'trip_start_lat':'mean'}).so$\n",
    "\n",
    "res.select(\"trip_start_time\",\"avg(trip_start_long)\",\"avg(trip_start_lat)\").show()\n",
    "\n",
    "t2 = time.time()\n",
    "\n",
    "total_time = t2-t1"
   ]
  },
  {
   "cell_type": "code",
   "execution_count": 28,
   "metadata": {},
   "outputs": [],
   "source": [
    "\n"
   ]
  },
  {
   "cell_type": "code",
   "execution_count": null,
   "metadata": {},
   "outputs": [],
   "source": []
  }
 ],
 "metadata": {
  "kernelspec": {
   "display_name": "Python 3",
   "language": "python",
   "name": "python3"
  },
  "language_info": {
   "codemirror_mode": {
    "name": "ipython",
    "version": 3
   },
   "file_extension": ".py",
   "mimetype": "text/x-python",
   "name": "python",
   "nbconvert_exporter": "python",
   "pygments_lexer": "ipython3",
   "version": "3.7.3"
  }
 },
 "nbformat": 4,
 "nbformat_minor": 4
}
