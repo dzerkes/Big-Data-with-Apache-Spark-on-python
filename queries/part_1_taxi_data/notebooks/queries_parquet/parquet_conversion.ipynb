{
 "cells": [
  {
   "cell_type": "code",
   "execution_count": 7,
   "metadata": {},
   "outputs": [
    {
     "name": "stdout",
     "output_type": "stream",
     "text": [
      "************starting time: 1594310259.5680385***********\n",
      "******time elapsed: 88.04961085319519 *********\n",
      "******time elapsed: 22.556681394577026 *********\n",
      "******time elapsed: 110.60629224777222 *********\n"
     ]
    }
   ],
   "source": [
    "from pyspark import SparkContext\n",
    "from pyspark.sql import SQLContext\n",
    "from pyspark.sql.types import StructType, StructField, DoubleType, IntegerType, StringType, TimestampType, FloatType, LongType\n",
    "import time \n",
    "\n",
    "path =\"/home/maria/Documents/sxoli/B eksamino/big data/project/yellow_trip_data/\"\n",
    "\n",
    "\n",
    "t1 = time.time()\n",
    "print(\"************starting time: {}***********\".format(t1))\n",
    "\n",
    "trip_data_schema = StructType([\n",
    "    StructField(\"trip_id\", StringType()),\n",
    "    StructField(\"trip_start_time\", StringType()),\n",
    "    StructField(\"trip_end_time\", StringType()),\n",
    "    StructField(\"trip_start_long\", FloatType()),\n",
    "    StructField(\"trip_start_lat\", FloatType()),\n",
    "    StructField(\"trip_end_long\", FloatType()),\n",
    "    StructField(\"trip_end_lat\", FloatType()),\n",
    "    StructField(\"trip_cost\", FloatType())\n",
    "    ])\n",
    "\n",
    "trip_vendors_schema = StructType([\n",
    "    StructField(\"trip_id\", StringType()),\n",
    "    StructField(\"vendor_id\", StringType())\n",
    "    ])\n",
    "\n",
    "sc = SparkContext(\"local\", \"My App2\")\n",
    "\n",
    "sql_c = SQLContext(sc)\n",
    "\n",
    "trip_data = sql_c \\\n",
    "    .read \\\n",
    "    .format(\"com.databricks.spark.csv\") \\\n",
    "    .schema(trip_data_schema) \\\n",
    "    .option(\"header\", \"false\") \\\n",
    "    .option(\"mode\", \"DROPMALFORMED\") \\\n",
    "    .load(path + 'yellow_tripdata_1m.csv')\n",
    "\n",
    "\n",
    "trip_vendors = sql_c \\\n",
    "    .read \\\n",
    "    .format(\"com.databricks.spark.csv\") \\\n",
    "    .schema(trip_vendors_schema) \\\n",
    "    .option(\"header\", \"false\") \\\n",
    "    .option(\"mode\", \"DROPMALFORMED\") \\\n",
    "    .load(path + 'yellow_tripvendors_1m.csv')\n",
    "\n",
    "\n",
    "\n",
    "trip_data.write.parquet(path + \"yellow_tripdata_1m.parquet\")\n",
    "\n",
    "first = time.time()\n",
    "print(\"******time elapsed: {} *********\".format(first - t1))\n",
    "\n",
    "trip_vendors.write.parquet(path + \"yellow_tripvendors_1m.parquet\")\n",
    "\n",
    "t2 = time.time()\n",
    "print(\"******time elapsed: {} *********\".format(t2 - first))\n",
    "print(\"******time elapsed: {} *********\".format(t2 - t1))\n",
    "\n"
   ]
  },
  {
   "cell_type": "code",
   "execution_count": 6,
   "metadata": {},
   "outputs": [],
   "source": [
    "sc.stop()"
   ]
  },
  {
   "cell_type": "code",
   "execution_count": null,
   "metadata": {},
   "outputs": [],
   "source": []
  }
 ],
 "metadata": {
  "kernelspec": {
   "display_name": "Python 3",
   "language": "python",
   "name": "python3"
  },
  "language_info": {
   "codemirror_mode": {
    "name": "ipython",
    "version": 3
   },
   "file_extension": ".py",
   "mimetype": "text/x-python",
   "name": "python",
   "nbconvert_exporter": "python",
   "pygments_lexer": "ipython3",
   "version": "3.7.3"
  }
 },
 "nbformat": 4,
 "nbformat_minor": 4
}
