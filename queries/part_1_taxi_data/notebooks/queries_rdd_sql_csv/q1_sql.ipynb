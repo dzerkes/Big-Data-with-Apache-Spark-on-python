{
 "cells": [
  {
   "cell_type": "code",
   "execution_count": null,
   "metadata": {},
   "outputs": [],
   "source": [
    "\n",
    "from pyspark.sql import SparkSession\n",
    "from pyspark.sql.types import StructType, StructField, DoubleType, IntegerType, StringType, TimestampType, FloatType, LongType\n",
    "from pyspark.sql.functions import col, hour, asc, udf, dayofmonth, desc,avg\n",
    "import time\n",
    "\n",
    "t1 = time.time()\n",
    "\n",
    "\n",
    "path_trip = \"hdfs://master:9000/yellow_tripdata_1m.csv\"\n",
    "\n",
    "\n",
    "# define a scructType schema for the dataframe\n",
    "Schema = StructType([ StructField(\"ID\", FloatType(), True),\n",
    "                      StructField(\"start_datetime\", TimestampType(), True),\n",
    "                      StructField(\"stop_datetime\", TimestampType(), True),\n",
    "                      StructField(\"start_long\", FloatType(), True),\n",
    "                      StructField(\"start_lat\", FloatType(), True),\n",
    "                      StructField(\"stop_long\", FloatType(), True),\n",
    "                      StructField(\"stop_lat\", FloatType(), True),\n",
    "                      StructField(\"cost\", FloatType())\n",
    "                    ])\n",
    "\n",
    "spark = SparkSession.builder.appName(\"q1_sql\").getOrCreate()\n",
    "\n",
    "trip_data = spark.read.format(\"csv\").options(header='false').schema(Schema).\\\n",
    "            load(path_trip)\n",
    "\n",
    "\n",
    "# set filters\n",
    "trip_data = trip_data.filter(((col(\"start_long\") != col(\"stop_long\")) & \\\n",
    "                             (col(\"start_lat\") != col(\"stop_lat\"))) & \\\n",
    "                             (col(\"start_datetime\") < col(\"stop_datetime\")) &\\\n",
    "                            (col(\"start_lat\") >= 40) & (col(\"start_lat\") <= 45) &\\\n",
    "                             (col(\"stop_lat\") >= 40) & (col(\"stop_lat\") <= 45) &\\\n",
    "                             (col(\"start_long\") >= -80) & (col(\"start_long\") <= -71) &\\\n",
    "                            (col(\"stop_long\") >= -80) & (col(\"stop_long\") <= -71))\n",
    "\n",
    "# register table\n",
    "trip_data.registerTempTable(\"trip_data\")\n",
    "\n",
    "\n",
    "trip_data = trip_data.withColumn(\"start_datetime\", hour(col(\"start_datetime\")))\n",
    "#trip_data.show(3)\n",
    "\n",
    "res = trip_data.groupBy('start_datetime').agg({'start_long': 'mean', 'start_lat':'mean'}).sort('start_datetime')\n",
    "\n",
    "res.show(24)\n",
    "\n",
    "t2 = time.time()\n",
    "\n",
    "total_time = t2-t1\n",
    "\n",
    "print('\\n')\n",
    "print(\"total time to run: \", total_time)\n"
   ]
  }
 ],
 "metadata": {
  "kernelspec": {
   "display_name": "Python 3",
   "language": "python",
   "name": "python3"
  },
  "language_info": {
   "codemirror_mode": {
    "name": "ipython",
    "version": 3
   },
   "file_extension": ".py",
   "mimetype": "text/x-python",
   "name": "python",
   "nbconvert_exporter": "python",
   "pygments_lexer": "ipython3",
   "version": "3.7.3"
  }
 },
 "nbformat": 4,
 "nbformat_minor": 4
}
